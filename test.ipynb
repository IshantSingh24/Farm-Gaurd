{
 "cells": [
  {
   "cell_type": "code",
   "execution_count": 1,
   "metadata": {},
   "outputs": [],
   "source": [
    "import tensorflow as tf"
   ]
  },
  {
   "cell_type": "code",
   "execution_count": 2,
   "metadata": {},
   "outputs": [],
   "source": [
    "model=tf.keras.models.load_model('model.keras')"
   ]
  },
  {
   "cell_type": "code",
   "execution_count": 3,
   "metadata": {},
   "outputs": [
    {
     "name": "stdout",
     "output_type": "stream",
     "text": [
      "Found 984 files belonging to 10 classes.\n"
     ]
    }
   ],
   "source": [
    "\n",
    "\n",
    "\n",
    "\n",
    "val = tf.keras.utils.image_dataset_from_directory(\n",
    "   r\"C:\\Users\\thund\\OneDrive\\Desktop\\tomato leaf disease\\archive\\tomato\\val\", \n",
    "    image_size=(256, 256),\n",
    "    batch_size=64,\n",
    "    label_mode=\"int\"  \n",
    ")\n"
   ]
  },
  {
   "cell_type": "code",
   "execution_count": 4,
   "metadata": {},
   "outputs": [
    {
     "name": "stdout",
     "output_type": "stream",
     "text": [
      "16\n"
     ]
    }
   ],
   "source": [
    "print(len(val))"
   ]
  },
  {
   "cell_type": "code",
   "execution_count": 11,
   "metadata": {},
   "outputs": [
    {
     "name": "stdout",
     "output_type": "stream",
     "text": [
      "Found 984 files belonging to 10 classes.\n",
      "\u001b[1m31/31\u001b[0m \u001b[32m━━━━━━━━━━━━━━━━━━━━\u001b[0m\u001b[37m\u001b[0m \u001b[1m13s\u001b[0m 273ms/step - accuracy: 0.9229 - auc: 0.9956 - loss: 0.2219 - precision: 0.9354 - recall: 0.9062 - top_2_categorical_accuracy: 0.9874\n",
      "Test Accuracy: 92.99%\n"
     ]
    }
   ],
   "source": [
    "import tensorflow as tf\n",
    "\n",
    "# Load the best saved model\n",
    "model = tf.keras.models.load_model(r\"C:\\Users\\thund\\OneDrive\\Desktop\\tomato leaf disease\\efficientNetV2B0.keras\")\n",
    "\n",
    "# Load the test dataset correctly\n",
    "test = tf.keras.utils.image_dataset_from_directory(\n",
    "    r\"C:\\Users\\thund\\OneDrive\\Desktop\\tomato leaf disease\\archive\\tomato\\val\",\n",
    "    image_size=(128,128),\n",
    "    batch_size=32,\n",
    "    label_mode=\"categorical\"  # Ensure labels match categorical crossentropy\n",
    ")\n",
    "\n",
    "# Evaluate the model on the test dataset\n",
    "test_loss, test_acc ,test_auc,test_precision,test_recall,test_topk = model.evaluate(test)\n",
    "\n",
    "print(f\"Test Accuracy: {test_acc * 100:.2f}%\")\n"
   ]
  },
  {
   "cell_type": "code",
   "execution_count": 7,
   "metadata": {},
   "outputs": [
    {
     "name": "stdout",
     "output_type": "stream",
     "text": [
      "Validation Accuracy: 502041.41%\n"
     ]
    }
   ],
   "source": [
    "\n",
    "print(f\"Validation Accuracy: {test_loss * 100:.2f}%\")"
   ]
  }
 ],
 "metadata": {
  "kernelspec": {
   "display_name": "Python 3",
   "language": "python",
   "name": "python3"
  },
  "language_info": {
   "codemirror_mode": {
    "name": "ipython",
    "version": 3
   },
   "file_extension": ".py",
   "mimetype": "text/x-python",
   "name": "python",
   "nbconvert_exporter": "python",
   "pygments_lexer": "ipython3",
   "version": "3.12.5"
  }
 },
 "nbformat": 4,
 "nbformat_minor": 2
}
